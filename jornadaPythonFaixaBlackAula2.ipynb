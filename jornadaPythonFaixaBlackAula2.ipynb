{
  "nbformat": 4,
  "nbformat_minor": 0,
  "metadata": {
    "colab": {
      "name": "jornadaPythonFaixaBlackAula2.ipynb",
      "provenance": []
    },
    "kernelspec": {
      "name": "python3",
      "display_name": "Python 3"
    }
  },
  "cells": [
    {
      "cell_type": "markdown",
      "metadata": {
        "id": "4qaGwDIfViHw"
      },
      "source": [
        "\n",
        "#Identação de código\n",
        "\n",
        "  Identação é aquele espaçamento no inicio da linha.\n",
        "\n",
        "    O nivel mais a direita pertence ao nivel mais a esquerda\n",
        "\n"
      ]
    },
    {
      "cell_type": "markdown",
      "metadata": {
        "id": "3WmFxg2vV3wM"
      },
      "source": [
        "# Variaveis\n",
        "\n",
        "Uma Variavel um ome que se refere a um valor.\n",
        "\n",
        "## Motivo do Uso\n",
        "\n",
        "São Usadas para guardar valores mais tarde no nosso programa\n",
        "\n",
        "## Sintaxe\n",
        "\n",
        "idade = 22  \n",
        "nome = 'Aldecione'\n"
      ]
    },
    {
      "cell_type": "code",
      "metadata": {
        "id": "VhPyZUnaWojD"
      },
      "source": [
        "nome = 'Aldecione'  \n",
        "idade = 22"
      ],
      "execution_count": null,
      "outputs": []
    },
    {
      "cell_type": "code",
      "metadata": {
        "id": "r3k41cuGWyMN",
        "outputId": "b19e92ef-9274-4590-e937-daa7042c016a",
        "colab": {
          "base_uri": "https://localhost:8080/",
          "height": 35
        }
      },
      "source": [
        "nome"
      ],
      "execution_count": null,
      "outputs": [
        {
          "output_type": "execute_result",
          "data": {
            "application/vnd.google.colaboratory.intrinsic+json": {
              "type": "string"
            },
            "text/plain": [
              "'Aldecione'"
            ]
          },
          "metadata": {
            "tags": []
          },
          "execution_count": 8
        }
      ]
    },
    {
      "cell_type": "code",
      "metadata": {
        "id": "nWNGTTwBW0uk",
        "outputId": "0753cd7c-e5bb-4fa0-fa51-27c0b227ffab",
        "colab": {
          "base_uri": "https://localhost:8080/"
        }
      },
      "source": [
        "idade"
      ],
      "execution_count": null,
      "outputs": [
        {
          "output_type": "execute_result",
          "data": {
            "text/plain": [
              "22"
            ]
          },
          "metadata": {
            "tags": []
          },
          "execution_count": 9
        }
      ]
    },
    {
      "cell_type": "code",
      "metadata": {
        "id": "4BBVURd5W45V"
      },
      "source": [
        "idade = idade + 1"
      ],
      "execution_count": null,
      "outputs": []
    },
    {
      "cell_type": "code",
      "metadata": {
        "id": "iaC6_ipxYjdn",
        "outputId": "e8058216-77bb-441a-ca27-60629910c08b",
        "colab": {
          "base_uri": "https://localhost:8080/"
        }
      },
      "source": [
        "idade"
      ],
      "execution_count": null,
      "outputs": [
        {
          "output_type": "execute_result",
          "data": {
            "text/plain": [
              "24"
            ]
          },
          "metadata": {
            "tags": []
          },
          "execution_count": 16
        }
      ]
    },
    {
      "cell_type": "code",
      "metadata": {
        "id": "84RgQBbeXE32"
      },
      "source": [
        "primeiroNumero = 15\n",
        "segundoNumero = 10\n",
        "\n",
        "soma = primeiroNumero + segundoNumero\n",
        "\n",
        "# soma = 15 + 10\n",
        "# soma = 25"
      ],
      "execution_count": null,
      "outputs": []
    },
    {
      "cell_type": "code",
      "metadata": {
        "id": "nVR6WQENXc-N"
      },
      "source": [
        "nome = 'Aldecione'\n",
        "sobreNome = 'Junior'\n",
        "apelido = 'Junior'"
      ],
      "execution_count": null,
      "outputs": []
    },
    {
      "cell_type": "code",
      "metadata": {
        "id": "ISYaQsoZXow4"
      },
      "source": [
        "nomeCompleto = nome + ' ' + sobreNome"
      ],
      "execution_count": null,
      "outputs": []
    },
    {
      "cell_type": "code",
      "metadata": {
        "id": "mYIaua-EXzAU",
        "outputId": "f2474b27-efc2-4622-80b1-dd0350e3bb7e",
        "colab": {
          "base_uri": "https://localhost:8080/",
          "height": 35
        }
      },
      "source": [
        "nomeCompleto"
      ],
      "execution_count": null,
      "outputs": [
        {
          "output_type": "execute_result",
          "data": {
            "application/vnd.google.colaboratory.intrinsic+json": {
              "type": "string"
            },
            "text/plain": [
              "'Aldecione Junior'"
            ]
          },
          "metadata": {
            "tags": []
          },
          "execution_count": 15
        }
      ]
    },
    {
      "cell_type": "code",
      "metadata": {
        "id": "tajlxgDuTJOq"
      },
      "source": [
        "#Identação de código\n",
        "\n",
        "  #Identação é aquele espaçamento no inicio da linha.\n",
        "\n",
        "    # O nivel mais a direita pertence ao nivel mais a esquerda"
      ],
      "execution_count": null,
      "outputs": []
    },
    {
      "cell_type": "code",
      "metadata": {
        "id": "NS6M62MyVtR8",
        "outputId": "d68208c7-07b3-427c-d775-3a202398fcd8",
        "colab": {
          "base_uri": "https://localhost:8080/"
        }
      },
      "source": [
        "print(\"Hello World!\")"
      ],
      "execution_count": null,
      "outputs": [
        {
          "output_type": "stream",
          "text": [
            "Hello World!\n"
          ],
          "name": "stdout"
        }
      ]
    },
    {
      "cell_type": "markdown",
      "metadata": {
        "id": "d-2uM0SAZHb6"
      },
      "source": [
        " # Tipos de Dados\n",
        "\n",
        " Toda variavel tem um tipo\n",
        "\n",
        " texto  \n",
        " numero  \n",
        " booleano  "
      ]
    },
    {
      "cell_type": "code",
      "metadata": {
        "id": "0ezypjFfZXe5"
      },
      "source": [
        "inteiro = 10  \n",
        "decimal = 10.5  \n",
        "texto = 'Aldecione Junior'  \n",
        "verdadeiro_ou_falso = True # True ou False"
      ],
      "execution_count": null,
      "outputs": []
    },
    {
      "cell_type": "code",
      "metadata": {
        "id": "gPIwI9ORZ1FI",
        "outputId": "2b2c42a2-a6dc-4cc6-e213-24ba4b78fefa",
        "colab": {
          "base_uri": "https://localhost:8080/"
        }
      },
      "source": [
        "23 + 10"
      ],
      "execution_count": null,
      "outputs": [
        {
          "output_type": "execute_result",
          "data": {
            "text/plain": [
              "33"
            ]
          },
          "metadata": {
            "tags": []
          },
          "execution_count": 19
        }
      ]
    },
    {
      "cell_type": "code",
      "metadata": {
        "id": "ZlDH6ZTWZ8a8",
        "outputId": "47539fa3-6f4e-49ed-ba6e-5842d9096e04",
        "colab": {
          "base_uri": "https://localhost:8080/"
        }
      },
      "source": [
        "type(texto)"
      ],
      "execution_count": null,
      "outputs": [
        {
          "output_type": "execute_result",
          "data": {
            "text/plain": [
              "str"
            ]
          },
          "metadata": {
            "tags": []
          },
          "execution_count": 20
        }
      ]
    },
    {
      "cell_type": "code",
      "metadata": {
        "id": "kp_a_ssGaBXX",
        "outputId": "b2f16fb9-6bac-4261-f546-f55d5af790a8",
        "colab": {
          "base_uri": "https://localhost:8080/"
        }
      },
      "source": [
        "type(inteiro)"
      ],
      "execution_count": null,
      "outputs": [
        {
          "output_type": "execute_result",
          "data": {
            "text/plain": [
              "int"
            ]
          },
          "metadata": {
            "tags": []
          },
          "execution_count": 21
        }
      ]
    },
    {
      "cell_type": "code",
      "metadata": {
        "id": "H3brArwZaFmw",
        "outputId": "30aabc59-406a-44c5-f3ad-9c3d8fd0ef10",
        "colab": {
          "base_uri": "https://localhost:8080/"
        }
      },
      "source": [
        "type(verdadeiro_ou_falso)"
      ],
      "execution_count": null,
      "outputs": [
        {
          "output_type": "execute_result",
          "data": {
            "text/plain": [
              "bool"
            ]
          },
          "metadata": {
            "tags": []
          },
          "execution_count": 24
        }
      ]
    },
    {
      "cell_type": "code",
      "metadata": {
        "id": "8drHSfpuaPra",
        "outputId": "65b863ea-65b4-4064-ec1a-1922c50d3bfb",
        "colab": {
          "base_uri": "https://localhost:8080/"
        }
      },
      "source": [
        "type(decimal)"
      ],
      "execution_count": null,
      "outputs": [
        {
          "output_type": "execute_result",
          "data": {
            "text/plain": [
              "float"
            ]
          },
          "metadata": {
            "tags": []
          },
          "execution_count": 25
        }
      ]
    },
    {
      "cell_type": "code",
      "metadata": {
        "id": "MzPexFCcaUnY"
      },
      "source": [
        "# int => Inteiros\n",
        "# float => Numero co Virgula\n",
        "# str => Strings(texto)\n",
        "# bool => Booleanos (Verdadeiro Ou Falso)\n",
        "\n",
        "texto_10 = '20'  \n",
        "numero_20 = 20  "
      ],
      "execution_count": null,
      "outputs": []
    },
    {
      "cell_type": "code",
      "metadata": {
        "id": "5TzkBuu4a4r0",
        "outputId": "96cae30b-8d15-42fb-f7f2-7b1986879fef",
        "colab": {
          "base_uri": "https://localhost:8080/"
        }
      },
      "source": [
        "type(texto_10)"
      ],
      "execution_count": null,
      "outputs": [
        {
          "output_type": "execute_result",
          "data": {
            "text/plain": [
              "str"
            ]
          },
          "metadata": {
            "tags": []
          },
          "execution_count": 27
        }
      ]
    },
    {
      "cell_type": "code",
      "metadata": {
        "id": "mVtaunCLa8zF",
        "outputId": "103d1d52-13e8-4827-acb3-43d33605b71d",
        "colab": {
          "base_uri": "https://localhost:8080/"
        }
      },
      "source": [
        "type(numero_20)"
      ],
      "execution_count": null,
      "outputs": [
        {
          "output_type": "execute_result",
          "data": {
            "text/plain": [
              "int"
            ]
          },
          "metadata": {
            "tags": []
          },
          "execution_count": 28
        }
      ]
    },
    {
      "cell_type": "code",
      "metadata": {
        "id": "BtLJciapbGBg"
      },
      "source": [
        "# Conversão\n",
        "texto_10 = str(numero_20)"
      ],
      "execution_count": null,
      "outputs": []
    },
    {
      "cell_type": "code",
      "metadata": {
        "id": "1inO-Wu1bU6D",
        "outputId": "b29afd2c-6512-42e4-f8c3-2e52bd9156bd",
        "colab": {
          "base_uri": "https://localhost:8080/"
        }
      },
      "source": [
        "type(texto_10)"
      ],
      "execution_count": null,
      "outputs": [
        {
          "output_type": "execute_result",
          "data": {
            "text/plain": [
              "str"
            ]
          },
          "metadata": {
            "tags": []
          },
          "execution_count": 31
        }
      ]
    },
    {
      "cell_type": "code",
      "metadata": {
        "id": "MLXckGKgdIQ6"
      },
      "source": [
        "esta_chovendo = True"
      ],
      "execution_count": null,
      "outputs": []
    },
    {
      "cell_type": "code",
      "metadata": {
        "id": "E6fxe52hdTql"
      },
      "source": [
        "esta_frio = False"
      ],
      "execution_count": null,
      "outputs": []
    },
    {
      "cell_type": "code",
      "metadata": {
        "id": "SWYuR5Iedah0"
      },
      "source": [
        "textoNew = '22'"
      ],
      "execution_count": null,
      "outputs": []
    },
    {
      "cell_type": "code",
      "metadata": {
        "id": "zqNKsGWQdfSz",
        "outputId": "7a712630-55d9-4929-ddad-2a89fac90410",
        "colab": {
          "base_uri": "https://localhost:8080/",
          "height": 163
        }
      },
      "source": [
        "numero = int(textoNew)"
      ],
      "execution_count": null,
      "outputs": [
        {
          "output_type": "error",
          "ename": "NameError",
          "evalue": "ignored",
          "traceback": [
            "\u001b[0;31m---------------------------------------------------------------------------\u001b[0m",
            "\u001b[0;31mNameError\u001b[0m                                 Traceback (most recent call last)",
            "\u001b[0;32m<ipython-input-36-f71a73ee8162>\u001b[0m in \u001b[0;36m<module>\u001b[0;34m()\u001b[0m\n\u001b[0;32m----> 1\u001b[0;31m \u001b[0mnumero\u001b[0m \u001b[0;34m=\u001b[0m \u001b[0mint\u001b[0m\u001b[0;34m(\u001b[0m\u001b[0mtextoNew\u001b[0m\u001b[0;34m)\u001b[0m\u001b[0;34m\u001b[0m\u001b[0;34m\u001b[0m\u001b[0m\n\u001b[0m",
            "\u001b[0;31mNameError\u001b[0m: name 'textoNew' is not defined"
          ]
        }
      ]
    },
    {
      "cell_type": "code",
      "metadata": {
        "id": "WGldmvYNduDp"
      },
      "source": [
        "# Operações Matematicas \n",
        "\n",
        "\n",
        "# Soma = +\n",
        "# subtracao = -\n",
        "# multiplicação = *\n",
        "# Divisao = /"
      ],
      "execution_count": null,
      "outputs": []
    },
    {
      "cell_type": "code",
      "metadata": {
        "id": "GNhMh0oseRkm"
      },
      "source": [
        "soma = 10 + 20"
      ],
      "execution_count": null,
      "outputs": []
    },
    {
      "cell_type": "code",
      "metadata": {
        "id": "Ec5XWmn5d3C8"
      },
      "source": [
        "subtracao = 12 - 2"
      ],
      "execution_count": null,
      "outputs": []
    },
    {
      "cell_type": "code",
      "metadata": {
        "id": "XAcyenxId6oH"
      },
      "source": [
        "multiplicacao = 2 * 3"
      ],
      "execution_count": null,
      "outputs": []
    },
    {
      "cell_type": "code",
      "metadata": {
        "id": "6g5RWpVVd-Qk"
      },
      "source": [
        "divisao = 2 / 1"
      ],
      "execution_count": null,
      "outputs": []
    },
    {
      "cell_type": "code",
      "metadata": {
        "id": "YjpdwBCZekjR"
      },
      "source": [
        "primeiroNumero = 20  \n",
        "segundoNumero = 30  \n",
        "terceiroNumero = 10  \n",
        "quartoNumero = 5  \n",
        "\n",
        "  ValorFinal = (primeiroNumero + segundoNumero - terceiroNumero) / quartoNumero"
      ],
      "execution_count": null,
      "outputs": []
    },
    {
      "cell_type": "markdown",
      "metadata": {
        "id": "nw12_TnqfFHZ"
      },
      "source": [
        "# Metodos De Entrada\n",
        "\n",
        " São Formas de Enviar Valores Para o Python\n",
        "\n",
        " Usa-se a Função Input() e enviamos uma String"
      ]
    },
    {
      "cell_type": "code",
      "metadata": {
        "id": "ApOsq6nrfY9q",
        "outputId": "c4bf5327-f07a-433d-fc8b-dd68a25265cd",
        "colab": {
          "base_uri": "https://localhost:8080/"
        }
      },
      "source": [
        "nome = input(\"Digite Seu Nome! \")"
      ],
      "execution_count": null,
      "outputs": [
        {
          "output_type": "stream",
          "text": [
            "Digite Seu Nome! Aldecione\n"
          ],
          "name": "stdout"
        }
      ]
    },
    {
      "cell_type": "code",
      "metadata": {
        "id": "zwqsLTXLfrDg",
        "outputId": "01b15bd4-156e-4a80-f114-980f1f201628",
        "colab": {
          "base_uri": "https://localhost:8080/"
        }
      },
      "source": [
        "idade = int(input(\"Digite Sua Idade! \"))"
      ],
      "execution_count": null,
      "outputs": [
        {
          "output_type": "stream",
          "text": [
            "Digite Sua Idade! 21\n"
          ],
          "name": "stdout"
        }
      ]
    },
    {
      "cell_type": "code",
      "metadata": {
        "id": "WmrYrwFQf5n7",
        "outputId": "ca0c614d-f569-4341-b1b4-87b9f9b17288",
        "colab": {
          "base_uri": "https://localhost:8080/"
        }
      },
      "source": [
        "type(21)"
      ],
      "execution_count": null,
      "outputs": [
        {
          "output_type": "execute_result",
          "data": {
            "text/plain": [
              "int"
            ]
          },
          "metadata": {
            "tags": []
          },
          "execution_count": 46
        }
      ]
    },
    {
      "cell_type": "markdown",
      "metadata": {
        "id": "8N53ph4_gOoJ"
      },
      "source": [
        "# Metodos De Saida\n",
        "\n",
        "Mostrar um valor para o usuário\n",
        "\n"
      ]
    },
    {
      "cell_type": "code",
      "metadata": {
        "id": "s5qgqc9Bgg5T",
        "outputId": "bab49a36-250f-4495-b4a9-2e6d9efc9d9c",
        "colab": {
          "base_uri": "https://localhost:8080/"
        }
      },
      "source": [
        "primeiroNumero = 10  \n",
        "segundoNumero = 20\n",
        "\n",
        "soma = primeiroNumero + segundoNumero\n",
        "\n",
        "print('O valor da soma é: ', soma)  \n"
      ],
      "execution_count": null,
      "outputs": [
        {
          "output_type": "stream",
          "text": [
            "O valor da soma é:  30\n"
          ],
          "name": "stdout"
        }
      ]
    },
    {
      "cell_type": "code",
      "metadata": {
        "id": "chmxfgv4g7AF",
        "outputId": "707a2f21-fcbf-46e2-9921-128f1a002c95",
        "colab": {
          "base_uri": "https://localhost:8080/"
        }
      },
      "source": [
        "nome = input('Digite seu Nome')\n",
        "idade = int(input('Digite sua Idade'))\n",
        "\n",
        "print('Olá ', nome, 'sua Idade é: ',idade)"
      ],
      "execution_count": null,
      "outputs": [
        {
          "output_type": "stream",
          "text": [
            "Digite seu NomeAldecione\n",
            "Digite sua Idade21\n",
            "Olá  Aldecione sua Idade é:  21\n"
          ],
          "name": "stdout"
        }
      ]
    },
    {
      "cell_type": "code",
      "metadata": {
        "id": "bXJNFW6HhWdj",
        "outputId": "5a599ffd-3f2c-471d-c8ac-306524887a4d",
        "colab": {
          "base_uri": "https://localhost:8080/"
        }
      },
      "source": [
        "print('Seja Bem Vindo a Minha Calculadora de Multiplicação!')\n",
        "\n",
        "valor1 = float(input('Digite um Numero Para Calcular: '))\n",
        "valor2 = float(input('Digite Outro Numero Para Calcular: '))\n",
        "\n",
        "multiplicacao = (valor1 * valor2)  \n",
        "\n",
        "print('O Resultado da Multiplicação do Valor ', valor1, ' e ', valor2, ' é: ', multiplicacao)"
      ],
      "execution_count": null,
      "outputs": [
        {
          "output_type": "stream",
          "text": [
            "Seja Bem Vindo a Minha Calculadora de Multiplicação!\n",
            "Digite um Numero Para Calcular: 2\n",
            "Digite Outro Numero Para Calcular: 6\n",
            "O Resultado da Multiplicação do Valor  2.0  e  6.0  é:  12.0\n"
          ],
          "name": "stdout"
        }
      ]
    },
    {
      "cell_type": "markdown",
      "metadata": {
        "id": "hfwjceP1i1T9"
      },
      "source": [
        "# Dados Sequenciais\n",
        "\n",
        "Usa-se lista para armazenar varios valores\n",
        "\n",
        "listaDeAnimais = ['Cachorro', 'Gato', 'Coelho', 'Furão', 'Passaro', 'Peixe']\n",
        "# Posição            1           2        3        4          5        6\n",
        "# Indice             0           1        2        3          4        5"
      ]
    },
    {
      "cell_type": "code",
      "metadata": {
        "id": "ZWADl5H2jvjj"
      },
      "source": [
        "listaDeAnimais = ['Cachorro', 'Gato', 'Coelho', 'Furão', 'Passaro', 'Peixe']"
      ],
      "execution_count": null,
      "outputs": []
    },
    {
      "cell_type": "code",
      "metadata": {
        "id": "KZ3I98e7j7M4"
      },
      "source": [
        "# Pegando valores da Lista\n",
        "\n",
        "cachorro = listaDeAnimais[0]\n",
        "gato = listaDeAnimais[1]\n",
        "\n"
      ],
      "execution_count": null,
      "outputs": []
    },
    {
      "cell_type": "code",
      "metadata": {
        "id": "Paw_ktxBkhNd",
        "outputId": "ebe839d5-7dd0-440e-e849-810070f1870e",
        "colab": {
          "base_uri": "https://localhost:8080/"
        }
      },
      "source": [
        "print('O Dracks e Logan são ', cachorro)\n",
        "print('xaninha e uma ', gato)"
      ],
      "execution_count": null,
      "outputs": [
        {
          "output_type": "stream",
          "text": [
            "O Dracks e Logan são  Cachorro\n",
            "xaninha e uma  Gato\n"
          ],
          "name": "stdout"
        }
      ]
    },
    {
      "cell_type": "code",
      "metadata": {
        "id": "qfWt327AZML0"
      },
      "source": [
        "# Condições\n",
        "\n"
      ],
      "execution_count": 1,
      "outputs": []
    }
  ]
}
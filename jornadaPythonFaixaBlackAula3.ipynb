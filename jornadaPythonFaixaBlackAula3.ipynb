{
  "nbformat": 4,
  "nbformat_minor": 0,
  "metadata": {
    "colab": {
      "name": "jornadaPythonFaixaBlackAula3.ipynb",
      "provenance": []
    },
    "kernelspec": {
      "name": "python3",
      "display_name": "Python 3"
    }
  },
  "cells": [
    {
      "cell_type": "markdown",
      "metadata": {
        "id": "O0FqxaQPd8tU"
      },
      "source": [
        "# Condicionais\n",
        "\n",
        "Principal forma de atribuir uma logica ao seu objetivo\n",
        "\n",
        "basicamente e a uma tomada de decisão caso condição seja verdadeira.\n",
        "\n",
        "EX:\n",
        "\n",
        "- Se o dia estiver quente:\n",
        "  - Vou tomar um sorvete\n",
        "  - Vou para a praia\n",
        "\n",
        "- Do contrario (se não)\n",
        "  - comer um chocolate\n",
        "  - Maratonar Netflix"
      ]
    },
    {
      "cell_type": "code",
      "metadata": {
        "id": "_RnB1v3tem5X",
        "outputId": "17cd4c93-cec9-45c0-edab-19a54db19891",
        "colab": {
          "base_uri": "https://localhost:8080/"
        }
      },
      "source": [
        "temperatura = 'quente'\n",
        "\n",
        "print(temperatura)"
      ],
      "execution_count": 1,
      "outputs": [
        {
          "output_type": "stream",
          "text": [
            "quente\n"
          ],
          "name": "stdout"
        }
      ]
    },
    {
      "cell_type": "code",
      "metadata": {
        "id": "ZS782lhgex2x",
        "outputId": "ede55721-9aa7-42e3-ed48-17ad7fdc1342",
        "colab": {
          "base_uri": "https://localhost:8080/"
        }
      },
      "source": [
        "if temperatura == 'quente':\n",
        "    print('Vou tomar um sorvete de flocos!')\n",
        "\n",
        "    print('Vou para a praia (Mentira aqui nao tem praia! kkk)')\n",
        "else:\n",
        "    print('Vou xomer um chocolate!')\n",
        "    print('Vamos assistir Cobra-Kai!')"
      ],
      "execution_count": 2,
      "outputs": [
        {
          "output_type": "stream",
          "text": [
            "Vou tomar um sorvete de flocos!\n",
            "Vou para a praia (Mentira aqui nao tem praia! kkk)\n"
          ],
          "name": "stdout"
        }
      ]
    },
    {
      "cell_type": "code",
      "metadata": {
        "id": "7VVEUBe6ffrI",
        "outputId": "cb4d5102-bb65-4475-f827-3aa202b4ada2",
        "colab": {
          "base_uri": "https://localhost:8080/"
        }
      },
      "source": [
        "horario = 'tarde'\n",
        "\n",
        "if horario == 'manhã':\n",
        "  print('O sol esta quente!')\n",
        "elif horario == 'tarde':\n",
        "  print('O por do sol está chegando')\n",
        "else:\n",
        "  print('A lua está linda!')\n",
        "  print(' ESTÁ NA HORA DA JORNADA PYTHON FAIXA BLACK!')\n"
      ],
      "execution_count": 4,
      "outputs": [
        {
          "output_type": "stream",
          "text": [
            "O por do sol está chegando\n"
          ],
          "name": "stdout"
        }
      ]
    },
    {
      "cell_type": "code",
      "metadata": {
        "id": "zFJ6efmKgTSe",
        "outputId": "8b5e0173-ed1f-475c-acba-f16cd64a9985",
        "colab": {
          "base_uri": "https://localhost:8080/"
        }
      },
      "source": [
        "idade = 16\n",
        "\n",
        "if idade >= 18:\n",
        "  print('Você ja pode beber, mas com moderação!')\n",
        "else:\n",
        "  print('Você não pode beber!')"
      ],
      "execution_count": 6,
      "outputs": [
        {
          "output_type": "stream",
          "text": [
            "Você não pode beber!\n"
          ],
          "name": "stdout"
        }
      ]
    },
    {
      "cell_type": "code",
      "metadata": {
        "id": "bgXUzqt1gm6h",
        "outputId": "620a46ad-89bc-4620-b815-3012159cfe10",
        "colab": {
          "base_uri": "https://localhost:8080/"
        }
      },
      "source": [
        "temperatura = 37\n",
        "\n",
        "if temperatura <= 30:\n",
        "  print('Aceitavel!')\n",
        "else:\n",
        "  print('Socorro esta muito quente!')"
      ],
      "execution_count": 7,
      "outputs": [
        {
          "output_type": "stream",
          "text": [
            "Socorro esta muito quente!\n"
          ],
          "name": "stdout"
        }
      ]
    },
    {
      "cell_type": "code",
      "metadata": {
        "id": "o-32VdZvg6Gv",
        "outputId": "05587658-8ac9-423d-8f06-9ea09c25b927",
        "colab": {
          "base_uri": "https://localhost:8080/"
        }
      },
      "source": [
        "altura = 1.75\n",
        "\n",
        "if altura > 1.80:\n",
        "  print('O felipe é alto!')\n",
        "else:\n",
        "  print('O felipe é baixinho!')"
      ],
      "execution_count": 8,
      "outputs": [
        {
          "output_type": "stream",
          "text": [
            "O felipe é baixinho!\n"
          ],
          "name": "stdout"
        }
      ]
    },
    {
      "cell_type": "code",
      "metadata": {
        "id": "tjaEzYi_hM6_",
        "outputId": "aa736f30-a12f-43a0-c64c-4095048b0f75",
        "colab": {
          "base_uri": "https://localhost:8080/"
        }
      },
      "source": [
        "quente = True\n",
        "\n",
        "gosta_de_praia = True\n",
        "\n",
        "gosta_de_chocolate_quente = False\n",
        "\n",
        "if quente == True:\n",
        "  print('Está quente!')\n",
        "  if gosta_de_praia == True:\n",
        "    print('Vá para a praia!')\n",
        "  else:\n",
        "    print('Nao vá para a praia!')\n",
        "else:\n",
        "  print('Está frio!')\n",
        "  if gosta_de_chocolate_quente == True:\n",
        "    print('Tome chocolate Quente!')\n",
        "  else:\n",
        "    print('Nao Tome chocolate quente!')"
      ],
      "execution_count": 9,
      "outputs": [
        {
          "output_type": "stream",
          "text": [
            "Está quente!\n",
            "Vá para a praia!\n"
          ],
          "name": "stdout"
        }
      ]
    },
    {
      "cell_type": "code",
      "metadata": {
        "id": "WRxxLNIYisEt",
        "outputId": "9416f77d-bc54-46fd-d066-14ad28003bfa",
        "colab": {
          "base_uri": "https://localhost:8080/"
        }
      },
      "source": [
        "dia = input('Qual o dia atual?')\n",
        "\n",
        "if dia == 'sabado':\n",
        "  print('Fim de semana :D')\n",
        "elif dia == 'domingo':\n",
        "  print('Fim de semana :D')\n",
        "else:\n",
        "  print('Nao e fim de semana :(')"
      ],
      "execution_count": 11,
      "outputs": [
        {
          "output_type": "stream",
          "text": [
            "Qual o dia atual?sabado\n",
            "Fim de semana :D\n"
          ],
          "name": "stdout"
        }
      ]
    },
    {
      "cell_type": "code",
      "metadata": {
        "id": "lQNBB9XNjb6x",
        "outputId": "338a9a08-72d3-4faa-ba71-abdd77d88049",
        "colab": {
          "base_uri": "https://localhost:8080/"
        }
      },
      "source": [
        "# 1, 3, 6 e 10 => Válido\n",
        "# qualquer outro => invalido\n",
        "\n",
        "numero = 11\n",
        "\n",
        "if numero == 1:\n",
        "  print('é valido')\n",
        "elif numero == 3:\n",
        "  print('é valido')\n",
        "elif numero == 6:\n",
        "  print('é valido')\n",
        "elif numero == 10:\n",
        "  print('é valido')\n",
        "else:\n",
        "  print('é invalido')"
      ],
      "execution_count": 13,
      "outputs": [
        {
          "output_type": "stream",
          "text": [
            "é invalido\n"
          ],
          "name": "stdout"
        }
      ]
    },
    {
      "cell_type": "markdown",
      "metadata": {
        "id": "EhqU-suWkSju"
      },
      "source": [
        "# Operadores Logicos\n",
        "\n",
        "servem para fazer uma condição composta\n",
        "\n",
        "E => Ambas precisam ser verdade\n",
        "OU => Pelo menos UMA precisa ser verdade\n",
        "\n",
        "EX: \n",
        "  - se for manhã e estiver sol\n",
        "  - se for sabado OU domingo\n",
        "\n",
        "E => AND\n",
        "OU => OR\n"
      ]
    },
    {
      "cell_type": "code",
      "metadata": {
        "id": "2LpnkoYNk7xv",
        "outputId": "be720957-464f-46a9-eeb8-3d8cd8488baa",
        "colab": {
          "base_uri": "https://localhost:8080/"
        }
      },
      "source": [
        "numero = 6 \n",
        "\n",
        "if numero == 1 or numero == 3 or numero == 6 or numero == 10:\n",
        "  print('Valido!')\n",
        "else: \n",
        "  print('Invalido!')"
      ],
      "execution_count": 14,
      "outputs": [
        {
          "output_type": "stream",
          "text": [
            "Valido!\n"
          ],
          "name": "stdout"
        }
      ]
    },
    {
      "cell_type": "code",
      "metadata": {
        "id": "02Hqx_CXlpJM",
        "outputId": "9e940c49-35bb-42d9-b4b9-3d4c472b865a",
        "colab": {
          "base_uri": "https://localhost:8080/"
        }
      },
      "source": [
        "horario = 'manha'\n",
        "sol = True\n",
        "\n",
        "if horario == 'manha' and sol == True:\n",
        "  print('Está uma manhã ensolarada!')"
      ],
      "execution_count": 20,
      "outputs": [
        {
          "output_type": "stream",
          "text": [
            "Está uma manhã ensolarada!\n"
          ],
          "name": "stdout"
        }
      ]
    },
    {
      "cell_type": "code",
      "metadata": {
        "id": "aQr8cu5PmkhL",
        "outputId": "239a1946-aff7-42f9-9f18-221e894faef7",
        "colab": {
          "base_uri": "https://localhost:8080/"
        }
      },
      "source": [
        "meuNome = 'Aldecione'\n",
        "nome = input('Digite seu nome: ')\n",
        "\n",
        "meuSobreNome = 'Pereira'\n",
        "sobrenome = input('Digite seu sobrenome:')\n",
        "\n",
        "if nome == meuNome and sobrenome == meuSobreNome:\n",
        "    print('Você é Aldecione Pereira')\n",
        "else:\n",
        "  print('Você não e Aldecione Pereira')"
      ],
      "execution_count": 23,
      "outputs": [
        {
          "output_type": "stream",
          "text": [
            "Digite seu nome: Aldecione\n",
            "Digite seu sobrenome:Pereira\n",
            "Você é Aldecione Pereira\n"
          ],
          "name": "stdout"
        }
      ]
    },
    {
      "cell_type": "markdown",
      "metadata": {
        "id": "GvOavqhgnleU"
      },
      "source": [
        "# Laços de Repetição\n",
        "\n",
        "É uma excelente forma de evitar repetição de codigo\n",
        "\n",
        "Ele *Executar n vezes* uma Operação\n",
        "\n",
        "*n* => Quantidade de vez definida."
      ]
    },
    {
      "cell_type": "code",
      "metadata": {
        "id": "odgve50jno0D",
        "outputId": "039364b0-2ab5-4a14-94c0-87ac24869fe7",
        "colab": {
          "base_uri": "https://localhost:8080/"
        }
      },
      "source": [
        "# De 1 até 10 vamos printar todos os numeros\n",
        "\n",
        "print(0)\n",
        "print(1)\n",
        "print(2)\n",
        "print(3)\n",
        "print(4)\n",
        "print(5)\n",
        "print(6)\n",
        "print(7)\n",
        "print(8)\n",
        "print(9)\n",
        "\n",
        "# Na programação o minimo (1) e INCLUSIVO => ele existe \n",
        "# já é máximo (10) é EXCLUSIVO => Ele nao existe "
      ],
      "execution_count": 26,
      "outputs": [
        {
          "output_type": "stream",
          "text": [
            "0\n",
            "1\n",
            "2\n",
            "3\n",
            "4\n",
            "5\n",
            "6\n",
            "7\n",
            "8\n",
            "9\n"
          ],
          "name": "stdout"
        }
      ]
    },
    {
      "cell_type": "code",
      "metadata": {
        "id": "eKklMfmEom-5",
        "outputId": "90409447-020b-42a5-8fd9-b88cb959f299",
        "colab": {
          "base_uri": "https://localhost:8080/"
        }
      },
      "source": [
        "for numero in range(1,10):\n",
        "  print(numero)"
      ],
      "execution_count": 28,
      "outputs": [
        {
          "output_type": "stream",
          "text": [
            "1\n",
            "2\n",
            "3\n",
            "4\n",
            "5\n",
            "6\n",
            "7\n",
            "8\n",
            "9\n"
          ],
          "name": "stdout"
        }
      ]
    },
    {
      "cell_type": "code",
      "metadata": {
        "id": "hugrJuwJpjK_",
        "outputId": "0818ac3c-a07e-47d6-e823-eb7ee0ab9fab",
        "colab": {
          "base_uri": "https://localhost:8080/"
        }
      },
      "source": [
        "for numero in range(10):\n",
        "  print(numero)"
      ],
      "execution_count": 29,
      "outputs": [
        {
          "output_type": "stream",
          "text": [
            "0\n",
            "1\n",
            "2\n",
            "3\n",
            "4\n",
            "5\n",
            "6\n",
            "7\n",
            "8\n",
            "9\n"
          ],
          "name": "stdout"
        }
      ]
    },
    {
      "cell_type": "markdown",
      "metadata": {
        "id": "PlUTe6xKpq3t"
      },
      "source": [
        "*for* => Nossa palavra-chave para repetição\n",
        "\n",
        "*variavel* => o dado que estamos trabaçhando o momento atual.\n",
        "\n",
        "*in* => nossa palavra-chave para *onde vamos repetir?*\n",
        "intervalo ou sequencia => o que vamos repetir"
      ]
    },
    {
      "cell_type": "code",
      "metadata": {
        "id": "JFECi7BNqRg2",
        "outputId": "c2e1c369-eec4-4da7-d805-a574d310da75",
        "colab": {
          "base_uri": "https://localhost:8080/"
        }
      },
      "source": [
        "for numero in range(5):\n",
        "  print(numero)\n",
        "\n",
        "\n",
        "\n",
        "  # for         numero        in          range(5)\n",
        "  # para cada   numero        no          intervalo até 5"
      ],
      "execution_count": 32,
      "outputs": [
        {
          "output_type": "stream",
          "text": [
            "0\n",
            "1\n",
            "2\n",
            "3\n",
            "4\n"
          ],
          "name": "stdout"
        }
      ]
    },
    {
      "cell_type": "code",
      "metadata": {
        "id": "aiLBFYxFq-l9",
        "outputId": "e923ed21-86a7-41b2-db77-6230d41585c0",
        "colab": {
          "base_uri": "https://localhost:8080/"
        }
      },
      "source": [
        "for numero in range(1, 11):\n",
        "  print('O numero atual é: ', numero)"
      ],
      "execution_count": 33,
      "outputs": [
        {
          "output_type": "stream",
          "text": [
            "O numero atual é:  1\n",
            "O numero atual é:  2\n",
            "O numero atual é:  3\n",
            "O numero atual é:  4\n",
            "O numero atual é:  5\n",
            "O numero atual é:  6\n",
            "O numero atual é:  7\n",
            "O numero atual é:  8\n",
            "O numero atual é:  9\n",
            "O numero atual é:  10\n"
          ],
          "name": "stdout"
        }
      ]
    },
    {
      "cell_type": "code",
      "metadata": {
        "id": "EuX1V9xSrOpi",
        "outputId": "67b59fd1-0c8f-4ebc-e4d8-1dc59e30266d",
        "colab": {
          "base_uri": "https://localhost:8080/"
        }
      },
      "source": [
        "for numero  in range(1, 11):\n",
        "  print('o numero atual é ',numero)\n",
        "  if numero == 5:\n",
        "    print('E o numero 5')\n",
        "  if numero == 2:\n",
        "    print('E o numero 2')"
      ],
      "execution_count": 34,
      "outputs": [
        {
          "output_type": "stream",
          "text": [
            "o numero atual é  1\n",
            "o numero atual é  2\n",
            "E o numero 2\n",
            "o numero atual é  3\n",
            "o numero atual é  4\n",
            "o numero atual é  5\n",
            "E o numero 5\n",
            "o numero atual é  6\n",
            "o numero atual é  7\n",
            "o numero atual é  8\n",
            "o numero atual é  9\n",
            "o numero atual é  10\n"
          ],
          "name": "stdout"
        }
      ]
    },
    {
      "cell_type": "code",
      "metadata": {
        "id": "4t4Gn6Hsr_Gy"
      },
      "source": [
        "nomes = ['Aldecione', 'Fabi', 'José', 'Katia']\n",
        "\n"
      ],
      "execution_count": 35,
      "outputs": []
    },
    {
      "cell_type": "code",
      "metadata": {
        "id": "3P7SX_C4sd4T",
        "outputId": "213efdd8-26e2-4974-d2e2-ca780712e4de",
        "colab": {
          "base_uri": "https://localhost:8080/"
        }
      },
      "source": [
        "for nome in nomes:\n",
        "  print('O nome atual é: ', nome)\n",
        "\n",
        "  if nome == 'Aldecione':\n",
        "    print('(ou Junior)')"
      ],
      "execution_count": 40,
      "outputs": [
        {
          "output_type": "stream",
          "text": [
            "O nome atual é:  Aldecione\n",
            "(ou Junior)\n",
            "O nome atual é:  Fabi\n",
            "O nome atual é:  José\n",
            "O nome atual é:  Katia\n"
          ],
          "name": "stdout"
        }
      ]
    },
    {
      "cell_type": "code",
      "metadata": {
        "id": "DXvXQzsNtwiJ",
        "outputId": "5cd6edbe-c060-4f44-bea3-c33059ce3c36",
        "colab": {
          "base_uri": "https://localhost:8080/"
        }
      },
      "source": [
        "notas = [6, 7.5, 9, 10, 3, 5]\n",
        "\n",
        "soma = 0\n",
        "\n",
        "for nota in notas:\n",
        "  soma =  soma + nota\n",
        "\n",
        "print('A soma é: ', soma)\n",
        "\n",
        "media = soma / len(notas)\n",
        "\n",
        "print('A media é: ', media)\n",
        "\n"
      ],
      "execution_count": 46,
      "outputs": [
        {
          "output_type": "stream",
          "text": [
            "A soma é:  40.5\n",
            "A media é:  6.75\n"
          ],
          "name": "stdout"
        }
      ]
    },
    {
      "cell_type": "code",
      "metadata": {
        "id": "YkT5oQy3uuvx",
        "outputId": "19502128-8905-465d-bb23-2944f99ac765",
        "colab": {
          "base_uri": "https://localhost:8080/"
        }
      },
      "source": [
        "# len => Tamanho em Inglês (Abreviação)\n",
        "  # 1   2   3   4\n",
        "notas = [6, 7.5]\n",
        "len(notas)\n"
      ],
      "execution_count": 47,
      "outputs": [
        {
          "output_type": "execute_result",
          "data": {
            "text/plain": [
              "2"
            ]
          },
          "metadata": {
            "tags": []
          },
          "execution_count": 47
        }
      ]
    },
    {
      "cell_type": "markdown",
      "metadata": {
        "id": "3A5E8un8wMQx"
      },
      "source": [
        "# Função\n",
        "\n",
        "Toda função é uma rotina.\n",
        "\n",
        "Eu defino (def) uma rotina e executo quantas vezes quiser\n",
        "\n",
        "E uma excelente forma de deixar nosso codigo dinamico e sem repetição"
      ]
    },
    {
      "cell_type": "code",
      "metadata": {
        "id": "zhBxJNlSwiEZ",
        "outputId": "4e9af274-eb48-4623-f369-d8e10580ab8f",
        "colab": {
          "base_uri": "https://localhost:8080/"
        }
      },
      "source": [
        "# Definindo uma função\n",
        "\n",
        "def nome_funcao():\n",
        "  # codigo da funcao\n",
        "  print('Codigo de função')\n",
        "\n",
        "# chamando a função\n",
        "nome_funcao() "
      ],
      "execution_count": 48,
      "outputs": [
        {
          "output_type": "stream",
          "text": [
            "Codigo de função\n"
          ],
          "name": "stdout"
        }
      ]
    },
    {
      "cell_type": "code",
      "metadata": {
        "id": "17fIe0R-w8J7",
        "outputId": "6ec2b9ec-aba1-4121-b979-75115ae4cb1c",
        "colab": {
          "base_uri": "https://localhost:8080/"
        }
      },
      "source": [
        "def mostrarNome():\n",
        "  print('Aldecione Junior')\n",
        "\n",
        "mostrarNome()"
      ],
      "execution_count": 58,
      "outputs": [
        {
          "output_type": "stream",
          "text": [
            "Aldecione Junior\n"
          ],
          "name": "stdout"
        }
      ]
    },
    {
      "cell_type": "code",
      "metadata": {
        "id": "jwAzr8YvxVEx",
        "outputId": "76ffe569-eb54-4f29-851d-6e3075dfcc84",
        "colab": {
          "base_uri": "https://localhost:8080/"
        }
      },
      "source": [
        "print()"
      ],
      "execution_count": 54,
      "outputs": [
        {
          "output_type": "stream",
          "text": [
            "\n"
          ],
          "name": "stdout"
        }
      ]
    },
    {
      "cell_type": "markdown",
      "metadata": {
        "id": "RxqA0NcXxaTD"
      },
      "source": [
        "# Parametros/ Argumentos da Função\n",
        "\n",
        "É uma maneira de enviar dados para a função\n"
      ]
    },
    {
      "cell_type": "code",
      "metadata": {
        "id": "_QaOT95lxgic",
        "outputId": "2353b772-5967-427c-f649-d67efce8e48c",
        "colab": {
          "base_uri": "https://localhost:8080/"
        }
      },
      "source": [
        "def mostrarNome(nomeAtual):\n",
        "  print(nomeAtual)\n",
        "\n",
        "mostrarNome('Aldecione')\n",
        "mostrarNome('Bianca')\n",
        "mostrarNome('Ynara')"
      ],
      "execution_count": 57,
      "outputs": [
        {
          "output_type": "stream",
          "text": [
            "Aldecione\n",
            "Bianca\n",
            "Ynara\n"
          ],
          "name": "stdout"
        }
      ]
    },
    {
      "cell_type": "code",
      "metadata": {
        "id": "veWwvrfezaMr",
        "outputId": "c9b60ad2-12ac-4ea1-ee97-078a186c026f",
        "colab": {
          "base_uri": "https://localhost:8080/"
        }
      },
      "source": [
        "def calcularMedia(n1, n2):\n",
        "  soma = n1 + n2\n",
        "  media = soma / 2\n",
        "  \n",
        "  \n",
        "# nao mostrou porque nao usamos o return\n",
        "mediaCalculada = calcularMedia(10,8)\n",
        "\n",
        "print(mediaCalculada)"
      ],
      "execution_count": 61,
      "outputs": [
        {
          "output_type": "stream",
          "text": [
            "None\n"
          ],
          "name": "stdout"
        }
      ]
    },
    {
      "cell_type": "markdown",
      "metadata": {
        "id": "HkURz_2sy7Tu"
      },
      "source": [
        "**Return**\n",
        "\n",
        "Quando queremos retornar o valor da função, ou seja, a função devolve um valor calculado, nos usamos o return\n"
      ]
    },
    {
      "cell_type": "code",
      "metadata": {
        "id": "m41HvSxJyF9s",
        "outputId": "c74c3435-7de4-443a-c9a6-576cb7e4899f",
        "colab": {
          "base_uri": "https://localhost:8080/"
        }
      },
      "source": [
        "def calcularMedia(n1, n2):\n",
        "  soma = n1 + n2\n",
        "  media = soma / 2\n",
        "  \n",
        "  \n",
        "\n",
        "mediaCalculada = calcularMedia(10,8)\n",
        "\n",
        "print(mediaCalculada)"
      ],
      "execution_count": 60,
      "outputs": [
        {
          "output_type": "stream",
          "text": [
            "9.0\n"
          ],
          "name": "stdout"
        }
      ]
    },
    {
      "cell_type": "code",
      "metadata": {
        "id": "EeW4SNQny2mi",
        "outputId": "b0d19265-2aaf-4600-ce07-9932bf4e4ca2",
        "colab": {
          "base_uri": "https://localhost:8080/"
        }
      },
      "source": [
        "# IMC  => Peso(KG) / Altura(M)²\n",
        "\n",
        "def numero_quadrado(numero):\n",
        "  quadrado = numero * numero\n",
        "  return quadrado\n",
        "\n",
        "def calcular_imc(peso, altura):\n",
        "  altura_quadrada = numero_quadrado(altura)\n",
        "  meuIMC = peso / altura_quadrada\n",
        "\n",
        "  return meuIMC\n",
        "\n",
        "def classificarIMC(meuIMC):\n",
        "    if imc < 18.5:\n",
        "      print('Magreza')\n",
        "    elif imc >= 18.5 and imc < 25:\n",
        "      print('Normal')\n",
        "    elif imc >= 25 and imc < 30:\n",
        "      print('SobrePeso')\n",
        "    elif imc >= 30 and imc < 40:\n",
        "      print('Obesidade')\n",
        "    else:\n",
        "      print('Obesidade Grave')\n",
        "\n",
        "imc = calcularIMC(61, 1.74)\n",
        "\n",
        "print('Seu IMC é: ', imc)\n",
        "\n",
        "print('Sua classificação é:')\n",
        "classificarIMC(imc)\n"
      ],
      "execution_count": 81,
      "outputs": [
        {
          "output_type": "stream",
          "text": [
            "Seu IMC é:  20.147971991015986\n",
            "Sua classificação é:\n",
            "Normal\n"
          ],
          "name": "stdout"
        }
      ]
    }
  ]
}